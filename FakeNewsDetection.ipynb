{
  "nbformat": 4,
  "nbformat_minor": 0,
  "metadata": {
    "colab": {
      "provenance": [],
      "authorship_tag": "ABX9TyNuA3iNCA86pxr/Orp9eS28",
      "include_colab_link": true
    },
    "kernelspec": {
      "name": "python3",
      "display_name": "Python 3"
    },
    "language_info": {
      "name": "python"
    }
  },
  "cells": [
    {
      "cell_type": "markdown",
      "metadata": {
        "id": "view-in-github",
        "colab_type": "text"
      },
      "source": [
        "<a href=\"https://colab.research.google.com/github/Mauricio8583/Machine-Learning-Projects/blob/main/FakeNewsDetection.ipynb\" target=\"_parent\"><img src=\"https://colab.research.google.com/assets/colab-badge.svg\" alt=\"Open In Colab\"/></a>"
      ]
    },
    {
      "cell_type": "code",
      "execution_count": 8,
      "metadata": {
        "colab": {
          "base_uri": "https://localhost:8080/"
        },
        "id": "iuXE9P6PWHSB",
        "outputId": "d22fdefa-6a93-4fd8-d0af-17613bd55ebd"
      },
      "outputs": [
        {
          "output_type": "stream",
          "name": "stdout",
          "text": [
            "['REAL']\n",
            "['FAKE']\n"
          ]
        }
      ],
      "source": [
        "import pandas as pd\n",
        "import numpy as np\n",
        "from sklearn.feature_extraction.text import CountVectorizer\n",
        "from sklearn.model_selection import train_test_split\n",
        "from sklearn.naive_bayes import MultinomialNB\n",
        "\n",
        "# Leitura do Dataset\n",
        "data = pd.read_csv('fake_or_real_news.csv')\n",
        "\n",
        "# Transformação dos dados\n",
        "title = np.array(data['title'])\n",
        "label = np.array(data['label'])\n",
        "cv = CountVectorizer()\n",
        "title = cv.fit_transform(title)\n",
        "\n",
        "# Split de treinamento e teste\n",
        "title_train, title_test, label_train, label_test = train_test_split(title, label, test_size=0.2, random_state=42)\n",
        "\n",
        "# Treinamento do modelo\n",
        "model = MultinomialNB()\n",
        "model.fit(title_train, label_train)\n",
        "\n",
        "# Testando o modelo: Noticia verdadeira\n",
        "news_headline = \"Harris Speaks in Wisconsin as Top Democrats in Congress Endorse Her\"\n",
        "data = cv.transform([news_headline]).toarray()\n",
        "print(model.predict(data))\n",
        "\n",
        "# Testando o modelo: Noticia falsa\n",
        "news_headline = \"Bat blood can cure Cancer\"\n",
        "data = cv.transform([news_headline]).toarray()\n",
        "print(model.predict(data))"
      ]
    }
  ]
}